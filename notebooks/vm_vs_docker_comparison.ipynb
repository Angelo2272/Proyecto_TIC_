{
 "cells": [
  {
   "cell_type": "code",
   "execution_count": null,
   "id": "97e93be3",
   "metadata": {},
   "outputs": [
    {
     "name": "stdout",
     "output_type": "stream",
     "text": [
      "\n",
      "Monitoreo del sistema - 2025-05-18 13:40:55\n",
      "\n",
      "Uso de CPU: 25.0%\n",
      "Uso de Memoria: 47.5%\n",
      "Tiempo de Carga (Latencia): 1.0098 segundos\n",
      "Uso del Disco: 60.2%\n",
      "Resultados guardados en: c:\\Users\\Angelo\\Documents\\Proyecto TIC\\TIC\\notebooks\\results\\system_monitor_2025-05-18 13-40-55.txt\n"
     ]
    }
   ],
   "source": [
    "import psutil\n",
    "import time\n",
    "import datetime\n",
    "import os\n",
    "\n",
    "def monitor_system():\n",
    "    # Crear carpeta results si no existe\n",
    "    os.makedirs(\"results\", exist_ok=True)\n",
    "\n",
    "    current_time = datetime.datetime.now().strftime(\"%Y-%m-%d %H:%M:%S\")\n",
    "    filename = f\"results/monitor_{datetime.datetime.now().strftime('%Y%m%d_%H%M%S')}.txt\"\n",
    "\n",
    "    with open(filename, \"w\") as f:\n",
    "        f.write(f\"Monitoreo del sistema - {current_time}\\n\\n\")\n",
    "\n",
    "        start_time = time.time()\n",
    "\n",
    "        cpu = psutil.cpu_percent(interval=1)\n",
    "        memory = psutil.virtual_memory().percent\n",
    "        elapsed_time = time.time() - start_time\n",
    "        disk_usage = psutil.disk_usage('/').percent\n",
    "\n",
    "        f.write(f\"Uso de CPU: {cpu}%\\n\")\n",
    "        f.write(f\"Uso de Memoria: {memory}%\\n\")\n",
    "        f.write(f\"Tiempo de Carga (Latencia): {elapsed_time:.4f} segundos\\n\")\n",
    "        f.write(f\"Uso del Disco: {disk_usage}%\\n\")\n",
    "\n",
    "    print(f\"Resultados guardados en {filename}\")\n",
    "\n",
    "monitor_system()\n"
   ]
  }
 ],
 "metadata": {
  "kernelspec": {
   "display_name": "Python 3",
   "language": "python",
   "name": "python3"
  },
  "language_info": {
   "codemirror_mode": {
    "name": "ipython",
    "version": 3
   },
   "file_extension": ".py",
   "mimetype": "text/x-python",
   "name": "python",
   "nbconvert_exporter": "python",
   "pygments_lexer": "ipython3",
   "version": "3.12.9"
  }
 },
 "nbformat": 4,
 "nbformat_minor": 5
}
